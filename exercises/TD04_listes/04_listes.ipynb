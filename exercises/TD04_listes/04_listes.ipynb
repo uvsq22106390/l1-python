{
 "cells": [
  {
   "cell_type": "markdown",
   "metadata": {},
   "source": [
    "# TD 4: Listes"
   ]
  },
  {
   "cell_type": "markdown",
   "metadata": {},
   "source": [
    "---\n",
    "\n",
    "## 1. Débuts avec les listes\n",
    "\n",
    "Dans cette partie, il faut écrire les réponses directement dans le notebook. En plus du cours, n'hésitez pas à consulter la documentation (tutoriel) Python sur les listes [ici (introduction aux listes)](https://docs.python.org/fr/3.6/tutorial/introduction.html#lists) et [ici (complément sur les listes)] (https://docs.python.org/fr/3/tutorial/datastructures.html#more-on-lists).\n",
    "\n",
    "1. Créer la liste `3, 5, 10`, l'affecter à une variable, puis l'afficher."
   ]
  },
  {
   "cell_type": "code",
   "execution_count": 11,
   "metadata": {},
   "outputs": [
    {
     "name": "stdout",
     "output_type": "stream",
     "text": [
      "[3, 5, 10]\n"
     ]
    }
   ],
   "source": [
    "liste = [3, 5, 10]\n",
    "print(liste)"
   ]
  },
  {
   "cell_type": "markdown",
   "metadata": {},
   "source": [
    "2. Ajouter ensuite 12 et 17 à la fin puis afficher à nouveau la liste."
   ]
  },
  {
   "cell_type": "code",
   "execution_count": 12,
   "metadata": {},
   "outputs": [
    {
     "name": "stdout",
     "output_type": "stream",
     "text": [
      "[3, 5, 10, 12, 17]\n"
     ]
    }
   ],
   "source": [
    "liste = [3, 5, 10, 12, 17]\n",
    "print(liste)"
   ]
  },
  {
   "cell_type": "markdown",
   "metadata": {},
   "source": [
    "3. Changer le 10 en -7."
   ]
  },
  {
   "cell_type": "code",
   "execution_count": 13,
   "metadata": {},
   "outputs": [
    {
     "name": "stdout",
     "output_type": "stream",
     "text": [
      "[3, 5, -7, 12, 17]\n"
     ]
    }
   ],
   "source": [
    "liste = [3, 5, -7, 12, 17]\n",
    "print(liste)"
   ]
  },
  {
   "cell_type": "markdown",
   "metadata": {},
   "source": [
    "4. Avec une boucle `for`, écrire le double de chaque élément de la liste. Cela doit afficher `[6, 10, -14, 24, 34]`. La liste doit être modifiée."
   ]
  },
  {
   "cell_type": "code",
   "execution_count": 14,
   "metadata": {},
   "outputs": [
    {
     "name": "stdout",
     "output_type": "stream",
     "text": [
      "[12, 20, -28, 48, 68]\n"
     ]
    }
   ],
   "source": [
    "liste = [6, 10, -14, 24, 34] \n",
    "for i in range(len(liste)) : \n",
    "    liste[i] *= 2\n",
    "print(liste)\n",
    "\n"
   ]
  },
  {
   "cell_type": "markdown",
   "metadata": {},
   "source": [
    "5. A l'aide d'une boucle `for`, ajouter  la valeur `i` à l'élément d'indice `i` de la liste. Cela doit afficher `[6, 11, -12, 27, 38]`. La liste doit être modifiée."
   ]
  },
  {
   "cell_type": "code",
   "execution_count": 15,
   "metadata": {},
   "outputs": [
    {
     "name": "stdout",
     "output_type": "stream",
     "text": [
      "[6, 11, -12, 27, 38]\n"
     ]
    }
   ],
   "source": [
    "liste = [6, 10, -14, 24, 34] \n",
    "for i in range(len(liste)) : \n",
    "    liste[i] += i\n",
    "print(liste)"
   ]
  },
  {
   "cell_type": "markdown",
   "metadata": {},
   "source": [
    "6. Tirer 10 nombres à 2 chiffres au hasard et les mettre dans une nouvelle liste (vide au départ), puis afficher la somme des entiers de la liste et le plus grand de ces entiers."
   ]
  },
  {
   "cell_type": "code",
   "execution_count": 16,
   "metadata": {},
   "outputs": [
    {
     "name": "stdout",
     "output_type": "stream",
     "text": [
      "liste paire [6]\n",
      "liste impaire [11]\n"
     ]
    }
   ],
   "source": [
    "pair = []\n",
    "impaire = []\n",
    "for i in range(2) :\n",
    "    if liste[i] % 2 == 0 :\n",
    "        pair.append(liste[i])\n",
    "    else :\n",
    "        impaire.append(liste[i])\n",
    "\n",
    "print(\"liste paire\", pair)\n",
    "print(\"liste impaire\", impaire)\n",
    "\n"
   ]
  },
  {
   "cell_type": "code",
   "execution_count": 17,
   "metadata": {},
   "outputs": [
    {
     "name": "stdout",
     "output_type": "stream",
     "text": [
      "(366, 63, 141, 393, 205, 229)\n",
      "366 + 63 + 141 + 393 + 205 + 229\n"
     ]
    }
   ],
   "source": [
    "import random\n",
    "a = random.randint(10, 488)\n",
    "b = random.randint(10, 488)\n",
    "c = random.randint(10, 488)\n",
    "d = random.randint(10, 488)\n",
    "e = random.randint(10, 488)\n",
    "r = random.randint(10, 488)\n",
    "listerandome = (a, b, c, d, e, r)\n",
    "for i in range(len(listerandome)) :\n",
    "    list(listerandome) and listerandome + listerandome\n",
    "if a> b and b> c and c> d and d> e and e>r :\n",
    "    print(a)\n",
    "elif a<b and b< c and c< d and d< e and e< r :\n",
    "    print(r)\n",
    "elif a<b and b< c and c< d and d< e and e< r :\n",
    "    print(r)\n",
    "print (listerandome)\n",
    "print(a ,\"+\",b ,\"+\" ,c ,\"+\" ,d ,\"+\" ,e ,\"+\" ,r)\n"
   ]
  },
  {
   "cell_type": "code",
   "execution_count": 1,
   "metadata": {},
   "outputs": [
    {
     "name": "stdout",
     "output_type": "stream",
     "text": [
      "[57, 12, 81, 54, 33, 26, 29, 16, 38, 17]\n",
      "81\n",
      "363\n"
     ]
    }
   ],
   "source": [
    "import random\n",
    "l=[]\n",
    "for i in range(10):\n",
    "    v=random.randint(10,99)\n",
    "    l.append(v)\n",
    "print(l)\n",
    "print(max(l))\n",
    "print(sum(l))\n"
   ]
  },
  {
   "cell_type": "code",
   "execution_count": 7,
   "metadata": {},
   "outputs": [
    {
     "name": "stdout",
     "output_type": "stream",
     "text": [
      "[66, 94, 145, 287, 297, 388, 552, 629, 680, 907, 5085]\n"
     ]
    }
   ],
   "source": [
    "\n",
    "li = []\n",
    "n = random.randint(1000,10000)\n",
    "for u in range (10) :\n",
    "    f = random.randint(0,1000)\n",
    "    li.append(f)\n",
    "    random.shuffle(li)\n",
    "\n",
    "\n",
    "li.append(n)\n",
    "li.sort()\n",
    "print(li)"
   ]
  },
  {
   "cell_type": "code",
   "execution_count": null,
   "metadata": {},
   "outputs": [],
   "source": [
    "valid_colone = []\n",
    "l1 = []\n",
    "l2 = []\n",
    "l3 = []\n",
    "l4 = []\n",
    "valid_colone.append(l1,l2,l3,l4)\n",
    "for i in range(0,4) :\n",
    "    c = random.randint(0, 4)\n",
    "    d = random.randint(0, 4)\n",
    "    e = random.randint(0, 4)\n",
    "    r = random.randint(0, 4)\n",
    "    \n",
    "\n",
    "        "
   ]
  },
  {
   "cell_type": "code",
   "execution_count": 6,
   "metadata": {},
   "outputs": [],
   "source": [
    "def findNextCellToFill(grid, i, j):\n",
    "        for x in range(i,4):\n",
    "                for y in range(j,9):\n",
    "                        if grid[x][y] == 0:\n",
    "                                return x,y\n",
    "        for x in range(0,4):\n",
    "                for y in range(0,4):\n",
    "                        if grid[x][y] == 0:\n",
    "                                return x,y\n",
    "        return -1,-1\n",
    "\n",
    "def isValid(grid, i, j, e):\n",
    "        rowOk = all([e != grid[i][x] for x in range(4)])\n",
    "        if rowOk:\n",
    "                columnOk = all([e != grid[x][j] for x in range(4)])\n",
    "                if columnOk:\n",
    "                        secTopX, secTopY = 3 *(i//3), 3 *(j//3)  \n",
    "                        for x in range(secTopX, secTopX+3):\n",
    "                                for y in range(secTopY, secTopY+3):\n",
    "                                        if grid[x][y] == e:\n",
    "                                                return False\n",
    "                        return True\n",
    "        return False\n",
    "\n",
    "def solveSudoku(grid, i=0, j=0):\n",
    "        i,j = findNextCellToFill(grid, i, j)\n",
    "        if i == -1:\n",
    "                return True\n",
    "        for e in range(1,10):\n",
    "                if isValid(grid,i,j,e):\n",
    "                        grid[i][j] = e\n",
    "                        if solveSudoku(grid, i, j):\n",
    "                                return True\n",
    "                        grid[i][j] = 0\n",
    "        return False\n"
   ]
  },
  {
   "cell_type": "markdown",
   "metadata": {},
   "source": [
    "7. A partir de la liste choisie au hasard, créer une liste qui contient les éléments pairs et une deuxième liste qui contient les éléments impairs."
   ]
  },
  {
   "cell_type": "code",
   "execution_count": 19,
   "metadata": {},
   "outputs": [
    {
     "name": "stdout",
     "output_type": "stream",
     "text": [
      "liste paire [452580, 172155, 52289, 67807, 375085, 879964, 464394, 943109, 123781, 925896]\n",
      "liste impaire [452580, 172155, 52289, 67807, 375085, 879964, 464394, 943109, 123781, 925896]\n"
     ]
    }
   ],
   "source": [
    "pair = []\n",
    "impaire = []\n",
    "for i in range(10) :\n",
    "   g = random.randint(0,1000000)\n",
    "   pair.append(g)\n",
    "   impaire.append(g)\n",
    "   \n",
    "\n",
    "print(\"liste paire\", pair)\n",
    "print(\"liste impaire\", impaire)"
   ]
  },
  {
   "cell_type": "markdown",
   "metadata": {},
   "source": [
    "8. Trier la liste choisie au hasard par ordre croissant en modifiant la liste."
   ]
  },
  {
   "cell_type": "code",
   "execution_count": 32,
   "metadata": {},
   "outputs": [
    {
     "name": "stdout",
     "output_type": "stream",
     "text": [
      "[642, 262, 870, 387, 327, 624, 586, 37, 526, 642] [642, 262, 870, 387, 327, 624, 586, 37, 526, 642]\n"
     ]
    }
   ],
   "source": [
    "liste_croisante = []\n",
    "liste_decroissante = []\n",
    "for u in range (10) :\n",
    "    f = random.randint(0,1000)\n",
    "    liste_croisante.append(f)\n",
    "    liste_decroissante.append(f)\n",
    "    \n",
    "\n",
    "print(liste_croisante,liste_decroissante)"
   ]
  },
  {
   "cell_type": "code",
   "execution_count": 9,
   "metadata": {},
   "outputs": [
    {
     "name": "stdout",
     "output_type": "stream",
     "text": [
      "[938, 678, 653, 643, 618, 553, 408, 351, 326, 195] [19, 167, 182, 208, 350, 475, 485, 583, 682, 760]\n",
      "760\n",
      "19\n",
      "938\n",
      "195\n"
     ]
    }
   ],
   "source": [
    "liste_croisante = []\n",
    "liste_decroissante = []\n",
    "for u in range (10) :\n",
    "    f = random.randint(0,1000)\n",
    "    w = random.randint(0,1000)\n",
    "    liste_croisante.append(f)\n",
    "    liste_decroissante.append(w)\n",
    "    random.shuffle(liste_croisante)\n",
    "    liste_croisante.sort()\n",
    "    random.shuffle(liste_decroissante)\n",
    "    liste_decroissante.sort(reverse= True)\n",
    "    \n",
    "\n",
    "print(liste_decroissante,liste_croisante)\n",
    "print(max(liste_croisante))\n",
    "print(min(liste_croisante))\n",
    "print(max(liste_decroissante))\n",
    "print(min(liste_decroissante))"
   ]
  },
  {
   "cell_type": "markdown",
   "metadata": {},
   "source": [
    "9. Supprimer le plus petit et le plus grand élément de la liste triée."
   ]
  },
  {
   "cell_type": "code",
   "execution_count": null,
   "metadata": {},
   "outputs": [],
   "source": []
  },
  {
   "cell_type": "markdown",
   "metadata": {},
   "source": [
    "10. Créer la liste des entiers de 1 jusqu'à 52. Ces entiers représentent les cartes d'un paquet de 52 cartes."
   ]
  },
  {
   "cell_type": "code",
   "execution_count": 40,
   "metadata": {},
   "outputs": [],
   "source": [
    "liste_carte = [1,2,3,4,5,6,7,8,9,10,11,12,13,14,15,16,17,18,19,20,21,22,23,24,25,26,27,28,29,30,31,32,33,34,35,36,37,38,39,40,41,42,43,44,45,46,47,48,49,50,51,52]"
   ]
  },
  {
   "cell_type": "markdown",
   "metadata": {},
   "source": [
    " 11. Couper le jeu de carte revient à choisir un indice `i` entre 0 et 51, et à passer toutes les cartes allant des indices 0 à i-1 à la suite des cartes qui vont des indices i à 51. Ecrire le code qui effectue une coupe choisie au hasard."
   ]
  },
  {
   "cell_type": "code",
   "execution_count": 49,
   "metadata": {},
   "outputs": [
    {
     "ename": "TypeError",
     "evalue": "list.count() takes exactly one argument (2 given)",
     "output_type": "error",
     "traceback": [
      "\u001b[1;31m---------------------------------------------------------------------------\u001b[0m",
      "\u001b[1;31mTypeError\u001b[0m                                 Traceback (most recent call last)",
      "\u001b[1;32mC:\\Users\\LEDIEN~1\\AppData\\Local\\Temp/ipykernel_16084/1838820863.py\u001b[0m in \u001b[0;36m<module>\u001b[1;34m\u001b[0m\n\u001b[0;32m      2\u001b[0m     \u001b[1;32mif\u001b[0m \u001b[1;36m0\u001b[0m \u001b[1;33m<\u001b[0m \u001b[0mi\u001b[0m \u001b[1;33m<\u001b[0m \u001b[1;36m52\u001b[0m \u001b[1;33m:\u001b[0m\u001b[1;33m\u001b[0m\u001b[1;33m\u001b[0m\u001b[0m\n\u001b[0;32m      3\u001b[0m         \u001b[0mh\u001b[0m \u001b[1;33m=\u001b[0m \u001b[0mrandom\u001b[0m\u001b[1;33m.\u001b[0m\u001b[0mrandint\u001b[0m\u001b[1;33m(\u001b[0m\u001b[1;36m0\u001b[0m\u001b[1;33m,\u001b[0m\u001b[1;36m52\u001b[0m\u001b[1;33m)\u001b[0m\u001b[1;33m\u001b[0m\u001b[1;33m\u001b[0m\u001b[0m\n\u001b[1;32m----> 4\u001b[1;33m         \u001b[0mliste_carte\u001b[0m\u001b[1;33m.\u001b[0m\u001b[0mcount\u001b[0m\u001b[1;33m(\u001b[0m\u001b[1;36m0\u001b[0m\u001b[1;33m,\u001b[0m \u001b[0mh\u001b[0m\u001b[1;33m)\u001b[0m\u001b[1;33m\u001b[0m\u001b[1;33m\u001b[0m\u001b[0m\n\u001b[0m\u001b[0;32m      5\u001b[0m         \u001b[0mprint\u001b[0m\u001b[1;33m(\u001b[0m\u001b[0mh\u001b[0m\u001b[1;33m)\u001b[0m\u001b[1;33m\u001b[0m\u001b[1;33m\u001b[0m\u001b[0m\n\u001b[0;32m      6\u001b[0m \u001b[1;33m\u001b[0m\u001b[0m\n",
      "\u001b[1;31mTypeError\u001b[0m: list.count() takes exactly one argument (2 given)"
     ]
    }
   ],
   "source": [
    "for i in range (0,2):\n",
    "    if 0 < i < 52 :\n",
    "        h = random.randint(0,52)\n",
    "        liste_carte.count(0, h)\n",
    "        print(h)\n",
    "       \n"
   ]
  },
  {
   "cell_type": "markdown",
   "metadata": {},
   "source": [
    "---\n",
    "\n",
    "## 2. Problème de Syracuse\n",
    "\n",
    "Cette partie est à traiter dans un script que vous pouvez appeler, par exemple, `syracuse.py`.\n",
    "\n",
    "En partant d'un entier `n` de départ, on définit une suite d'entiers en obtenant chaque nouveau terme à partir du précédent soit en le divisant par 2 s'il est pair, soit en le multipliant par 3 et en ajoutant 1 s'il est impair. \n",
    "\n",
    "1. Sans écrire de programme, calculer les premières valeurs de la suite en chosissant `n = 3`.\n",
    "\n",
    "2. Ecrire la fonction qui, à partir d'un entier initial, renvoie la liste des valeurs successives jusqu'à ce que la valeur `1` soit atteinte (le dernier élément de la liste est donc toujours 1)."
   ]
  },
  {
   "cell_type": "code",
   "execution_count": 55,
   "metadata": {},
   "outputs": [
    {
     "name": "stdout",
     "output_type": "stream",
     "text": [
      "[3, 10, 5, 16, 8, 4, 2, 1]\n"
     ]
    }
   ],
   "source": [
    "def syracuse(n):\n",
    "    m = []\n",
    "    m.append(n)\n",
    "    while n != 1 :\n",
    "        if n % 2 == 0 :\n",
    "            n = n // 2\n",
    "        else : \n",
    "            n = n * 3 + 1\n",
    "        m.append(n)\n",
    "    return(m)\n",
    "\n",
    "    \n",
    "\n",
    "print(syracuse(3))"
   ]
  },
  {
   "cell_type": "markdown",
   "metadata": {},
   "source": [
    "3. La conjecture de Collatz (ou problème de Syracuse) affirme que, quel que soit l’entier `n` que l’on choisisse au départ, on finit toujours par arriver à 1 (ce résultat est une *conjecture*, c'est-à-dire qu'il n'a pas été démontré, mais qu'il n'existe pas de contre-exemple connu). Écrire une fonction qui, en appelant la fonction précédente, va vérifier si la conjecture est vraie pour `n` de 1 à `n_max`, où `n_max` est un paramètre de la fonction. \n",
    "\n",
    "*Remarque*: si tout se passe bien, la fonction doit juste se terminer et renvoyer `True` par exemple. Sinon, c’est qu’on sera entré dans une boucle infinie."
   ]
  },
  {
   "cell_type": "code",
   "execution_count": 59,
   "metadata": {
    "tags": []
   },
   "outputs": [
    {
     "name": "stdout",
     "output_type": "stream",
     "text": [
      "True\n"
     ]
    }
   ],
   "source": [
    "def testeConjecture(n_max):\n",
    "    for i in range (2, n_max + 1) :\n",
    "        syracuse(i)\n",
    "    return(True)\n",
    "    \n",
    "    \n",
    "\n",
    "print(testeConjecture(10000))"
   ]
  },
  {
   "cell_type": "markdown",
   "metadata": {},
   "source": [
    "4. On appelle *temps de vol* de l’entier `n` le nombre d’étapes pour aller de `n` jusqu’à 1. Le temps de vol de 1 est 0, le temps de vol de 3 est 7. Écrire une fonction qui, étant donné un paramètre `n`, renvoie son temps de vol."
   ]
  },
  {
   "cell_type": "code",
   "execution_count": 64,
   "metadata": {},
   "outputs": [
    {
     "name": "stdout",
     "output_type": "stream",
     "text": [
      "syracuse 3 =  [3, 10, 5, 16, 8, 4, 2, 1]\n",
      "Le temps de vol de 3 est 7\n"
     ]
    }
   ],
   "source": [
    "def tempsVol(n):\n",
    "    return len(syracuse(n))-1\n",
    "\n",
    "print(\"syracuse 3 = \",syracuse(3))\n",
    "print(\"Le temps de vol de\", 3, \"est\", tempsVol(3))"
   ]
  },
  {
   "cell_type": "markdown",
   "metadata": {},
   "source": [
    "5. Ecrire une fonction qui, étant donné un paramètre `n_max` renvoie la liste des temps de vol de tous les entiers de 1 à `n_max`. *Indication*: utiliser une liste en compréhension."
   ]
  },
  {
   "cell_type": "code",
   "execution_count": 69,
   "metadata": {},
   "outputs": [
    {
     "name": "stdout",
     "output_type": "stream",
     "text": [
      "[0, 1, 7, 2, 5, 8, 16, 3, 19, 6, 14, 9, 9, 17, 17, 4, 12, 20, 20, 7, 7, 15, 15, 10, 23, 10, 111, 18, 18, 18, 106, 5, 26, 13, 13, 21, 21, 21, 34, 8, 109, 8, 29, 16, 16, 16, 104, 11, 24, 24, 24, 11, 11, 112, 112, 19, 32, 19, 32, 19, 19, 107, 107, 6, 27, 27, 27, 14, 14, 14, 102, 22, 115, 22, 14, 22, 22, 35, 35, 9, 22, 110, 110, 9, 9, 30, 30, 17, 30, 17, 92, 17, 17, 105, 105, 12, 118, 25, 25, 25]\n",
      "118\n"
     ]
    }
   ],
   "source": [
    "def tempsVolListe(n_max):\n",
    "    l = [tempsVol(i) for i in range(1 , n_max + 1) ]\n",
    "    return(l)\n",
    "    \n",
    "l=tempsVolListe(100)\n",
    "print(l)\n",
    "print(max(l))"
   ]
  },
  {
   "cell_type": "markdown",
   "metadata": {},
   "source": [
    "6. Déterminer quel entier entre 1 et 10000 a le plus grand temps de vol (réponse 6171 qui a le temps de vol 261)."
   ]
  },
  {
   "cell_type": "markdown",
   "metadata": {},
   "source": [
    "7. L’altitude maximale de l'entier `n` est la plus grande valeur par laquelle passe `n` au cours de son vol. Déterminer quel entier entre 1 et 10000 a la plus grande altitude maximale (réponse 27114424, atteint par l'entier 9663). Ne pas hésiter à écrire de nouvelles fonctions pour cela."
   ]
  },
  {
   "cell_type": "markdown",
   "metadata": {},
   "source": [
    "---\n",
    "\n",
    "## 3. Carré magique\n",
    "\n",
    "*Définition* extraite de [l'article Wikipedia sur le carré magique](https://fr.wikipedia.org/wiki/Carr%C3%A9_magique_(math%C3%A9matiques)): en mathématiques, un carré magique d’ordre $n$ est composé de $n^2$ entiers strictement positifs, écrits sous la forme d’un tableau carré. Ces nombres sont disposés de sorte que leurs sommes sur chaque rangée, sur chaque colonne et sur chaque diagonale principale soient égales. On nomme alors *constante magique* la valeur de ces sommes. \n",
    "\n",
    "Un exemple de carré magique:\n",
    "\n",
    "$$\\begin{bmatrix} 4 & 14 & 15 & 1 \\\\ 9 & 7 & 6 & 12 \\\\ 5 & 11 & 10 & 8 \\\\ 16 & 2 & 3 & 13 \\end{bmatrix}$$\n",
    "\n",
    "1. Sans écrire de programme, vérifier qu'il s'agit bien d'un carré magique, et donner sa constante magique.\n",
    "\n",
    "Les questions qui suivent doivent être traitées dans un script, qui peut s'appeler `carre_magique.py`. Pensez à utiliser [PythonTutor](http://pythontutor.com/) et les outils de programmation pour résoudre les problèmes qui pourraient survenir.\n",
    "\n",
    "2. Créer une liste à deux dimensions affectée à  la variable `carre_mag` contenant ce carré magique."
   ]
  },
  {
   "cell_type": "markdown",
   "metadata": {},
   "source": [
    "3. Créer une deuxième liste affectée à la variable `carre_pas_mag` qui ne soit pas magique à partir du carré magique en changeant le 3 en 7. "
   ]
  },
  {
   "cell_type": "markdown",
   "metadata": {},
   "source": [
    "4. Créer une fonction qui affiche la liste comme un carré."
   ]
  },
  {
   "cell_type": "code",
   "execution_count": 20,
   "metadata": {},
   "outputs": [
    {
     "name": "stdout",
     "output_type": "stream",
     "text": [
      "\n",
      "\n",
      "[ ([2, 3, 5, 6],) None [5, 9, 6, 4] None ([3, 7, 9, 7],) ]\n"
     ]
    }
   ],
   "source": [
    "h = [2,3,5,6],\n",
    "k = [3,7,9,7],\n",
    "j = [5,9,6,4]\n",
    "print(\"[\",h,print(),j,print(),k,\"]\")"
   ]
  },
  {
   "cell_type": "code",
   "execution_count": 3,
   "metadata": {},
   "outputs": [
    {
     "name": "stdout",
     "output_type": "stream",
     "text": [
      "[[4, 14, 15, 1], [9, 7, 6, 12], [5, 11, 10, 8], [16, 2, 3, 13]]\n",
      "[[4, 14, 15, 1], [9, 7, 6, 12], [5, 11, 10, 8], [16, 2, 7, 13]]\n"
     ]
    }
   ],
   "source": [
    "carre_mag = [[4,14,15,1],[9,7,6,12],[5,11,10,8],[16,2,3,13]]\n",
    "carre_pas_mag = [[4,14,15,1],[9,7,6,12],[5,11,10,8],[16,2,7,13]]\n",
    "\n",
    "\n",
    "print(carre_mag)\n",
    "print(carre_pas_mag)"
   ]
  },
  {
   "cell_type": "markdown",
   "metadata": {},
   "source": [
    "5. Ecrire une fonction qui teste si les lignes du carré ont toutes la même somme. Cette fonction renvoie cette somme si c'est le cas, et `-1` sinon."
   ]
  },
  {
   "cell_type": "code",
   "execution_count": 22,
   "metadata": {},
   "outputs": [
    {
     "name": "stdout",
     "output_type": "stream",
     "text": [
      "[4, 14, 15, 1]\n",
      "[9, 7, 6, 12]\n",
      "[5, 11, 10, 8]\n",
      "[16, 2, 3, 13]\n"
     ]
    }
   ],
   "source": [
    "w = [[4,14,15,1],[9,7,6,12],[5,11,10,8],[16,2,3,13]]\n",
    "for i in w :\n",
    "    print(i)\n"
   ]
  },
  {
   "cell_type": "code",
   "execution_count": 23,
   "metadata": {},
   "outputs": [
    {
     "name": "stdout",
     "output_type": "stream",
     "text": [
      "[4, 14, 15, 1]\n",
      "[9, 7, 6, 12]\n",
      "[5, 11, 10, 8]\n",
      "[16, 2, 3, 13]\n",
      "\n",
      "[4, 14, 15, 1]\n",
      "[9, 7, 6, 12]\n",
      "[5, 11, 10, 8]\n",
      "[16, 2, 3, 13]\n"
     ]
    }
   ],
   "source": [
    "def afficheCarre(carre):\n",
    "  for i in carre_mag :\n",
    "    print(i)\n",
    "\n",
    "    \n",
    "    pass\n",
    "\n",
    "afficheCarre(carre_mag)\n",
    "print()\n",
    "afficheCarre(carre_pas_mag)"
   ]
  },
  {
   "cell_type": "code",
   "execution_count": null,
   "metadata": {},
   "outputs": [],
   "source": []
  },
  {
   "cell_type": "code",
   "execution_count": 24,
   "metadata": {},
   "outputs": [
    {
     "name": "stdout",
     "output_type": "stream",
     "text": [
      "34\n",
      "-1\n"
     ]
    }
   ],
   "source": [
    "def testLignesEgales(carre):\n",
    "    sume = []\n",
    "    for i in carre :\n",
    "        sume.append(sum(i))\n",
    "    if sume.count(sume[0]) == len(sume) :\n",
    "        return(sume[0])\n",
    "    elif sume.count(sume[0]) != len(sume) :\n",
    "        return(-1)\n",
    "\n",
    "print(testLignesEgales(carre_mag))\n",
    "print(testLignesEgales(carre_pas_mag))\n"
   ]
  },
  {
   "cell_type": "markdown",
   "metadata": {},
   "source": [
    "6. Même question mais en testant les colonnes."
   ]
  },
  {
   "cell_type": "code",
   "execution_count": null,
   "metadata": {},
   "outputs": [],
   "source": []
  },
  {
   "cell_type": "code",
   "execution_count": 4,
   "metadata": {},
   "outputs": [
    {
     "name": "stdout",
     "output_type": "stream",
     "text": [
      "sum colo = 34\n",
      "None\n",
      "sum colo = 34\n",
      "None\n"
     ]
    }
   ],
   "source": [
    "def testColonnesEgales(carre):\n",
    "    colo = [carre[i][0] for i in range(len(carre))]\n",
    "    s0 = sum(colo)\n",
    "    print(\"sum colo =\", s0)\n",
    "    for i in range(len(carre)) :\n",
    "        col = [carre[i]]\n",
    "    \n",
    "\n",
    "print(testColonnesEgales(carre_mag))\n",
    "print(testColonnesEgales(carre_pas_mag))"
   ]
  },
  {
   "cell_type": "markdown",
   "metadata": {},
   "source": [
    "7. Même question mais en testant les 2 diagonales."
   ]
  },
  {
   "cell_type": "code",
   "execution_count": null,
   "metadata": {},
   "outputs": [],
   "source": [
    "def testDiagonalesEgales(carre):\n",
    "    \"\"\" Renvoie la somme des éléments d'une diagonale de la liste 2D carre si les 2 diagonales ont la même somme, et -1 sinon \"\"\"\n",
    "    some_diago = ()\n",
    "    pass\n",
    "\n",
    "print(testDiagonalesEgales(carre_mag))\n",
    "print(testDiagonalesEgales(carre_pas_mag))"
   ]
  },
  {
   "cell_type": "markdown",
   "metadata": {},
   "source": [
    "8. Créer une fonction qui teste si un carré est magique. Elle retourne `True` si c'est le cas et `False` sinon."
   ]
  },
  {
   "cell_type": "code",
   "execution_count": null,
   "metadata": {},
   "outputs": [],
   "source": [
    "def estCarreMagique(carre):\n",
    "    \"\"\" Renvoie True si c'est un carre magique et False sinon\"\"\"\n",
    "    pass\n",
    "\n",
    "print(estCarreMagique(carre_mag))\n",
    "print(estCarreMagique(carre_pas_mag))"
   ]
  },
  {
   "cell_type": "markdown",
   "metadata": {},
   "source": [
    "9. Un carré d'ordre $n$ est *normal* s'il contient tous les entiers de 1 à $n^2$. Ecrire une fonction qui teste si un carré est normal (pas nécessairement magique)."
   ]
  },
  {
   "cell_type": "code",
   "execution_count": null,
   "metadata": {},
   "outputs": [],
   "source": [
    "def estNormal(carre):\n",
    "    \"\"\" Retourne True si contient toutes les valeurs de 1 à n^2 où n est la taille \n",
    "        du carré, et False sinon \"\"\"\n",
    "    pass\n",
    "\n",
    "print(estNormal(carre_mag))\n",
    "print(estNormal(carre_pas_mag))"
   ]
  }
 ],
 "metadata": {
  "kernelspec": {
   "display_name": "Python 3",
   "language": "python",
   "name": "python3"
  },
  "language_info": {
   "codemirror_mode": {
    "name": "ipython",
    "version": 3
   },
   "file_extension": ".py",
   "mimetype": "text/x-python",
   "name": "python",
   "nbconvert_exporter": "python",
   "pygments_lexer": "ipython3",
   "version": "3.9.7"
  }
 },
 "nbformat": 4,
 "nbformat_minor": 1
}
